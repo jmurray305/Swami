{
 "cells": [
  {
   "cell_type": "code",
   "execution_count": 1,
   "metadata": {},
   "outputs": [],
   "source": [
    "import pandas as pd\n",
    "from gazpacho import get, Soup"
   ]
  },
  {
   "cell_type": "code",
   "execution_count": null,
   "metadata": {},
   "outputs": [],
   "source": [
    "master02_10 = pd.read_csv('./data/MASTER2002_2010.csv',index_col='Unnamed: 0')\n",
    "master10_20 = pd.read_csv('./data/MASTER2010_2020.csv',index_col='Unnamed: 0')"
   ]
  },
  {
   "cell_type": "code",
   "execution_count": null,
   "metadata": {},
   "outputs": [],
   "source": [
    "master = pd.concat([master02_10,master10_20])\n",
    "master['HomeOrAway'] = master['HomeOrAway'].astype(str)\n",
    "master = master[~master.HomeOrAway.str.contains('@')]\n",
    "master = master[]\n",
    "master.drop(['PlayersURL','VegasLink','GetBoxScoreURL','Weather','BOXSCORE', 'HomeOrAway','Links'], axis=1, inplace=True)\n",
    "master = master.reset_index(drop=True)\n",
    "master.head()"
   ]
  },
  {
   "cell_type": "code",
   "execution_count": null,
   "metadata": {},
   "outputs": [],
   "source": [
    "master['AwayTeamAbr'] = master['A_RB1_Team']\n",
    "master['AwayTeam'] = [Abv2Full(x.lower()).title() for x in master['AwayTeamAbr']]\n",
    "\n",
    "#bobby boucher\n",
    "#forest gump\n"
   ]
  },
  {
   "cell_type": "code",
   "execution_count": null,
   "metadata": {},
   "outputs": [],
   "source": [
    "#Drop bobby boucher and forest gump\n",
    "homeQBTD = pd.pivot_table(master, 'Home_QB_Passing_TD', 'Home_QB_Player', 'Team_Name').sum()\n",
    "awayQBTD = pd.pivot_table(master, 'Away_QB_Passing_TD', 'Away_QB_Player', 'Team_Name').sum()\n",
    "homeRBTD = pd.pivot_table(master, 'H_RB1_Rushing_TD', 'H_RB1_Player', 'Team_Name').sum()\n",
    "awayRBTD = pd.pivot_table(master, 'A_RB1_Rushing_TD', 'Team_Name','A_RB1_Player').sum()\n",
    "len(homeQBTD)"
   ]
  },
  {
   "cell_type": "code",
   "execution_count": null,
   "metadata": {},
   "outputs": [],
   "source": [
    "# Team Home wins by team over all years\n",
    "HomeWins = master['W_L'].groupby(master['Team_Name']).describe().sort_values(by='count', ascending=False)\n",
    "AwayWins = master['W_L'].groupby(master['Home_QB_Player']).describe().sort_values(by='count', ascending=False)\n",
    "group = master['W_L'].groupby([master['Team_Name'],master['Team_Year']]).count()\n",
    "group"
   ]
  },
  {
   "cell_type": "code",
   "execution_count": null,
   "metadata": {},
   "outputs": [],
   "source": []
  },
  {
   "cell_type": "code",
   "execution_count": null,
   "metadata": {},
   "outputs": [],
   "source": []
  },
  {
   "cell_type": "code",
   "execution_count": 16,
   "metadata": {},
   "outputs": [],
   "source": [
    "master = pd.read_csv('./data/MASTER2002_2010.csv',index_col='Unnamed: 0')\n",
    "test = master[-1:]"
   ]
  },
  {
   "cell_type": "code",
   "execution_count": 17,
   "metadata": {},
   "outputs": [],
   "source": [
    "col = [x for x in master.columns]\n",
    "ou = test['Home_Score'] + test['Away_Score']"
   ]
  },
  {
   "cell_type": "code",
   "execution_count": 22,
   "metadata": {},
   "outputs": [
    {
     "name": "stdout",
     "output_type": "stream",
     "text": [
      "Home Score 5129    14.0\n",
      "Name: Home_Score, dtype: float64, Away Score 5129    17.0\n",
      "Name: Away_Score, dtype: float64 for a total of 5129    31.0\n",
      "dtype: float64 and the overunder was 5129    44.5(under)\n",
      "Name: Over/Under, dtype: object\n"
     ]
    }
   ],
   "source": [
    "# print(test['Home_Score'],test['Away_Score'], )\n",
    "print(f\"Home Score {test['Home_Score']}, Away Score {test['Away_Score']} for a total of {ou} and the overunder was {test['Over/Under']}\")\n"
   ]
  },
  {
   "cell_type": "code",
   "execution_count": 24,
   "metadata": {},
   "outputs": [],
   "source": [
    "col\n",
    "dropcols = ('PlayersURL','VegasLink','GetBoxScoreURL','Weather')"
   ]
  },
  {
   "cell_type": "code",
   "execution_count": null,
   "metadata": {},
   "outputs": [],
   "source": [
    "# 2002-2005  06-20\n",
    "#madden ranking\n",
    "\n",
    "html = get(url)\n",
    "soup = Soup(html)\n",
    "dfstats = pd.read_html(str(soup.find('table')[2]))[0]"
   ]
  },
  {
   "cell_type": "code",
   "execution_count": null,
   "metadata": {},
   "outputs": [],
   "source": []
  },
  {
   "cell_type": "code",
   "execution_count": null,
   "metadata": {},
   "outputs": [],
   "source": []
  }
 ],
 "metadata": {
  "kernelspec": {
   "display_name": "Python 3",
   "language": "python",
   "name": "python3"
  },
  "language_info": {
   "codemirror_mode": {
    "name": "ipython",
    "version": 3
   },
   "file_extension": ".py",
   "mimetype": "text/x-python",
   "name": "python",
   "nbconvert_exporter": "python",
   "pygments_lexer": "ipython3",
   "version": "3.7.4"
  }
 },
 "nbformat": 4,
 "nbformat_minor": 4
}
