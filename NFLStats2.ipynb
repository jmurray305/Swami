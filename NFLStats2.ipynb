{
 "cells": [
  {
   "cell_type": "code",
   "execution_count": 1,
   "metadata": {
    "pycharm": {
     "is_executing": false
    }
   },
   "outputs": [],
   "source": [
    "from WebTable import findTables, pullTable\n",
    "from bs4 import BeautifulSoup as BS\n",
    "from bs4 import Comment\n",
    "from gazpacho import get, Soup\n",
    "import pandas as pd\n",
    "import re\n",
    "from tqdm import tnrange, tqdm_notebook\n",
    "from time import sleep\n",
    "import warnings\n",
    "warnings.filterwarnings('ignore')"
   ]
  },
  {
   "cell_type": "code",
   "execution_count": 2,
   "metadata": {},
   "outputs": [],
   "source": [
    "team_list = ['crd', 'atl', 'rav', 'buf', 'car', 'chi', 'cin', 'cle', 'dal', 'den', 'det','gnb', \n",
    "'htx', 'clt', 'jax', 'kan', 'mia', 'min', 'nwe', 'nor', 'nyg', 'nyj', 'rai', 'phi', 'pit', \n",
    "'sdg', 'sfo', 'sea', 'ram', 'tam', 'oti', 'was']"
   ]
  },
  {
   "cell_type": "code",
   "execution_count": 3,
   "metadata": {
    "pycharm": {
     "is_executing": false
    }
   },
   "outputs": [],
   "source": [
    "def rename_Abv2Full(team_s):\n",
    "    try:\n",
    "        if team_s == 'crd' :\n",
    "            ts = 'Arizona Cardinals'\n",
    "        elif team_s == 'atl':\n",
    "            ts = 'Atlanta Falcons'\n",
    "        elif team_s == 'rav':\n",
    "            ts = 'Baltimore Ravens'\n",
    "        elif team_s == 'buf':\n",
    "            ts = 'Buffalo Bills'\n",
    "        elif team_s == 'car':\n",
    "            ts = 'Carolina Panthers'\n",
    "        elif team_s == 'chi':\n",
    "            ts = 'Chicago Bears'\n",
    "        elif team_s == 'cin':\n",
    "            ts = 'Cincinnati Bengals'\n",
    "        elif team_s == 'cle':\n",
    "            ts = 'Cleveland Browns'\n",
    "        elif team_s == 'dal':\n",
    "            ts = 'Dallas Cowboys'\n",
    "        elif team_s == 'den':\n",
    "            ts = 'Denver Broncos'\n",
    "        elif team_s == 'det':\n",
    "            ts = 'Detroit Lions'\n",
    "        elif team_s == 'gnb':\n",
    "            ts = 'Green Bay Packers'\n",
    "        elif team_s == 'htx':\n",
    "            ts = 'Houston Texans'\n",
    "        elif team_s == 'clt':\n",
    "            ts = 'Indianapolis Colts'\n",
    "        elif team_s == 'jax':\n",
    "            ts = 'Jacksonville Jaguars'\n",
    "        elif team_s == 'kan':\n",
    "            ts = 'Kansas City Chiefs'\n",
    "        elif team_s == 'mia':\n",
    "            ts = 'Miami Dolphins'\n",
    "        elif team_s == 'min':\n",
    "            ts = 'Minnesota Vikings'\n",
    "        elif team_s == 'nwe':\n",
    "            ts = 'New England Patriots'\n",
    "        elif team_s == 'nor':\n",
    "            ts = 'New Orleans Saints'\n",
    "        elif team_s == 'nyg':\n",
    "            ts = 'New York Giants'\n",
    "        elif team_s == 'nyj':\n",
    "            ts = 'New York Jets'\n",
    "        elif team_s == 'rai':\n",
    "            ts = 'Oakland Raiders'\n",
    "        elif team_s == 'phi':\n",
    "            ts = 'Philadelphia Eagles'\n",
    "        elif team_s == 'pit':\n",
    "            ts = 'Pittsburgh Steelers'\n",
    "        elif team_s == 'sdg':\n",
    "            ts = 'San Diego Chargers'\n",
    "        elif team_s == 'sfo':\n",
    "            ts = 'San Francisco 49ers'\n",
    "        elif team_s == 'sea':\n",
    "            ts = 'Seattle Seahawks'\n",
    "        elif team_s == 'ram':\n",
    "            ts = 'St. Louis Rams'\n",
    "        elif team_s == 'tam':\n",
    "            ts = 'Tampa Bay Buccaneers'\n",
    "        elif team_s == 'oti':\n",
    "            ts = 'Tennessee Titans'\n",
    "        elif team_s == 'was':\n",
    "            ts = 'Washington Redskins'\n",
    "    except NameError:\n",
    "        print('Invalid team name')\n",
    "    return ts"
   ]
  },
  {
   "cell_type": "code",
   "execution_count": 4,
   "metadata": {},
   "outputs": [],
   "source": [
    "def renameFull2Abv(team_s):\n",
    "    try:\n",
    "        if team_s == 'Arizona Cardinals':\n",
    "            ts = 'crd'\n",
    "        elif team_s == 'Atlanta Falcons':\n",
    "            ts = 'atl'\n",
    "        elif team_s == 'Baltimore Ravens':\n",
    "            ts = 'rav'\n",
    "        elif team_s == 'Buffalo Bills':\n",
    "            ts = 'buf'\n",
    "        elif team_s == 'Carolina Panthers':\n",
    "            ts = 'car'\n",
    "        elif team_s == 'Chicago Bears':\n",
    "            ts = 'chi'\n",
    "        elif team_s == 'Cincinnati Bengals':\n",
    "            ts = 'cin'\n",
    "        elif team_s == 'Cleveland Browns':\n",
    "            ts = 'cle'\n",
    "        elif team_s == 'Dallas Cowboys':\n",
    "            ts = 'dal'\n",
    "        elif team_s == 'Denver Broncos':\n",
    "            ts = 'den'\n",
    "        elif team_s == 'Detroit Lions':\n",
    "            ts = 'det'\n",
    "        elif team_s == 'Green Bay Packers':\n",
    "            ts = 'gnb'\n",
    "        elif team_s == 'Houston Texans':\n",
    "            ts = 'htx'\n",
    "        elif team_s == 'Indianapolis Colts':\n",
    "            ts = 'clt'\n",
    "        elif team_s == 'Jacksonville Jaguars':\n",
    "            ts = 'jax'\n",
    "        elif team_s == 'Kansas City Chiefs':\n",
    "            ts = 'kan'\n",
    "        elif team_s == 'Miami Dolphins':\n",
    "            ts = 'mia'\n",
    "        elif team_s == 'Minnesota Vikings':\n",
    "            ts = 'min'\n",
    "        elif team_s == 'New England Patriots':\n",
    "            ts = 'nwe'\n",
    "        elif team_s == 'New Orleans Saints':\n",
    "            ts = 'nor'\n",
    "        elif team_s == 'New York Giants':\n",
    "            ts = 'nyg'\n",
    "        elif team_s == 'New York Jets':\n",
    "            ts = 'nyj'\n",
    "        elif team_s == 'Oakland Raiders':\n",
    "            ts = 'rai'\n",
    "        elif team_s == 'Philadelphia Eagles':\n",
    "            ts = 'phi'\n",
    "        elif team_s == 'Pittsburgh Steelers':\n",
    "            ts = 'pit'\n",
    "        elif team_s == 'San Diego Chargers':\n",
    "            ts = 'sdg'\n",
    "        elif team_s == 'San Francisco 49ers':\n",
    "            ts = 'sfo'\n",
    "        elif team_s == 'Seattle Seahawks':\n",
    "            ts = 'sea'\n",
    "        elif team_s == 'St. Louis Rams':\n",
    "            ts = 'ram'\n",
    "        elif team_s == 'Tampa Bay Buccaneers':\n",
    "            ts = 'tam'\n",
    "        elif team_s == 'Tennessee Titans':\n",
    "            ts = 'oti'\n",
    "        elif team_s == 'Washington Redskins':\n",
    "            ts = 'was'\n",
    "    except NameError:\n",
    "        print('Invalid team name')\n",
    "    return ts"
   ]
  },
  {
   "cell_type": "code",
   "execution_count": 5,
   "metadata": {},
   "outputs": [],
   "source": [
    "# col_name = ['Week','Day','Date','Unnamed: 3_level_1','Unnamed: 4_level_1','Unnamed: 5_level_1','OT',\n",
    "#             'Rec','Unnamed: 8_level_1','Opp','Tm','Opp','1stD','TotYd','PassY','RushY','TO','1stD',\n",
    "#             'TotYd','PassY','RushY','TO','Offense','Defense','Sp. Tms','Name','Year']\n",
    "# col_name2 = ['Week','Day','Date','Time','Boxscore','W/L','OT','Rec','Home/Away','Opp',\n",
    "#              'Score_Home','Opp_Score','1stD','TotYd','PassY','RushY','TO','Opp_1stD','Opp_TotYd','Opp_PassY',\n",
    "#              'Opp_RushY','Opp_TO','Offense','Defense','Sp. Tms','Name','Year']"
   ]
  },
  {
   "cell_type": "code",
   "execution_count": 6,
   "metadata": {},
   "outputs": [],
   "source": [
    "def urlSplit(inputlist):\n",
    "    ''' Used to slice the boxscore link to get and sort link and date\n",
    "    '''\n",
    "    urlList = []\n",
    "    for item in inputlist:\n",
    "        sort = item.split('/')[-1][:9]\n",
    "        urlList.append(sort)\n",
    "    return sorted(urlList, reverse=False)\n",
    "\n",
    "def Nanreplace(x):\n",
    "    if pd.isnull(x['relative_humidity']):\n",
    "        return x['relative humidity']\n",
    "    else:\n",
    "        return x['relative_humidity']\n",
    "\n",
    "def boxscore(url):\n",
    "    '''returns the link to the boxscore and the date the game was played'''\n",
    "    html = get(url)\n",
    "    soup = Soup(html)\n",
    "    boxlinks = str(soup.find('a', {'href': 'boxscore'})).split('\"')                    # Finds all a tags with a href link and splits on \"\n",
    "    links_list = [x for x in boxlinks if x.startswith('/boxscore')][1:-3]              # creates a list of all the links that starts with /boxscore\n",
    "    links_list = ['https://www.pro-football-reference.com' + x for x in links_list]    # creates the complete url to the boxscore links\n",
    "    df = pd.DataFrame(links_list, columns =['Links'])                                  # creates a dataframe containing all of the url links just created\n",
    "    df['Date'] = urlSplit(links_list)                                                  # add a new column that uses urlSplit to get an idea of the date\n",
    "    return df\n",
    "\n",
    "def get_boxscore_stats(url):\n",
    "    '''reutns a dataframe that contains home and away boxscores\n",
    "    use the link from the boxscore link generated from the master\n",
    "    dataframe\n",
    "    '''\n",
    "    boxstats = pullTable(url,'team_stats')                                             # Pull box table from boxscore url\n",
    "    boxstats.columns = ['Stats', 'Away', 'Home']                                       # rename column names\n",
    "    homebox = boxstats[['Stats','Home']]                                               # create a list for home and away teams\n",
    "    awaybox = boxstats[['Stats','Away']]\n",
    "    homebox = homebox.transpose()                                                      # Transpose the tables\n",
    "    awaybox = awaybox.transpose()\n",
    "    home_colnames = ['Home_' + x for x in homebox.iloc[0]]                             # add Home or Away to column names\n",
    "    away_colnames = ['Away_' + x for x in awaybox.iloc[0]]\n",
    "    zip_Homeboxscore = list(zip(home_colnames, homebox.iloc[1]))                       # zip list of columns and data together\n",
    "    zip_Awayboxscore = list(zip(away_colnames, awaybox.iloc[1]))\n",
    "    boxscorelist = zip_Homeboxscore + zip_Awayboxscore                                 # combine lists together\n",
    "    box_col = [col[0].replace(' ','_').replace('.','') for col in boxscorelist]        # Replace spaces with _ and remove .\n",
    "    box_stats = pd.Series([col[1] for col in boxscorelist], index=box_col)             \n",
    "    boxdf= pd.DataFrame(columns=box_col)\n",
    "    boxdf = boxdf.append(box_stats, ignore_index=True)\n",
    "    boxdf['GetBoxScoreURL'] = url\n",
    "    return boxdf\n",
    "\n",
    "\n",
    "def getGameInfo(url):\n",
    "    '''Gets table from Game Info table that is within a HTML comment\n",
    "    Will return a list of lists were [n][0] = column name and [n][1] is the infomation\n",
    "    [('Won_Toss', 'Cardinals (deferred)'),\n",
    "     ('Roof', 'retractable roof (closed)'),\n",
    "     ('Surface', 'grass'),\n",
    "     ('Duration', '2:56'),\n",
    "     ('Attendance', ' 60,104 '),\n",
    "     ('Vegas Line', 'Arizona Cardinals -2.5'),\n",
    "     ('Over/Under', '46.0(over) ')\n",
    "    '''\n",
    "    html = get(url)\n",
    "    soup = BS(html, 'html.parser')\n",
    "    comments = soup.find_all(string=lambda text: isinstance(text, Comment))                        # retrieve all the comments from the HTML\n",
    "    game_comments = []\n",
    "\n",
    "    for line in comments:\n",
    "        if '<div class=\"table_outer_container\">' in line:                                          # loop throught the table i want\n",
    "            game_comments.append(re.sub('<[^>]+>', ' ', line))                                     # use regex to replace everything between the <> tags and append to game comments\n",
    "            if '</table>' in line:                                                                 # break out of the for loop once it hits the ending table tag \n",
    "                break\n",
    "    game_info = [x.split('\\n') for x in game_comments]                                             # split on newlines to create a clean list\n",
    "    game_info = game_info[0][4:12]                                                                 # more cleaning, i only want these 8 items\n",
    "    game_info = [x.replace('Won Toss','Won_Toss') if 'Won Toss' in x else x for x in game_info]    # replace the space in the Won Toss item, cleaning/prep\n",
    "    game_info                                                                               \n",
    "    for count, row in enumerate(game_info):\n",
    "        if count == 5 and 'Weather' in row:                                                        \n",
    "            game_info.pop(count)\n",
    "        if count == 7:\n",
    "            game_info.pop(count)\n",
    "    game_info = [x.replace('  ','|') for x in game_info]\n",
    "    #split on | and setting max split to 2 and then removing the empty list items \n",
    "    game_titles = [x.split('|',2)[1] for x in game_info]\n",
    "    game_data = [x.split('|',2)[2].replace('|','') for x in game_info]\n",
    "    game = pd.DataFrame([game_data], columns = game_titles)\n",
    "    game['VegasLink'] = url\n",
    "    return game\n",
    "\n",
    "def get_master_df(teamList, startyear, endyear):\n",
    "    endyear = endyear + 1\n",
    "#     years = [x for x in range(startyear,endyear)]\n",
    "    masterdf = pd.DataFrame()\n",
    "    for x in tnrange(startyear,endyear, desc='YEAR'):\n",
    "        nflDF = pd.DataFrame()\n",
    "        for team in tqdm_notebook((team_list), desc='TEAMS'):\n",
    "            year = x\n",
    "            base = 'https://www.pro-football-reference.com'\n",
    "            url = base + '/teams/' + team + '/' + str(year) + '.htm'\n",
    "            html = get(url)\n",
    "            soup = Soup(html)\n",
    "            df = pd.read_html(str(soup.find('table')[1]))[0]\n",
    "            df = df[df['Unnamed: 9_level_0','Opp'] != 'Bye Week']\n",
    "            df = df[df['Unnamed: 9_level_0','Opp'] != 'Playoffs']\n",
    "            df['Team','Name'] = rename_Abv2Full(team)\n",
    "            df['Team','Year'] = year\n",
    "            top_level = df.columns.get_level_values(0).astype(str)\n",
    "            lower_level = df.columns.get_level_values(1).astype(str)\n",
    "            df.columns = top_level + '_' + lower_level\n",
    "            df.columns = [x.replace(\"', '\",\"_\").replace('Offense','Home').replace('Defense','Away') for x in df.columns]\n",
    "            df.rename(columns = {'Unnamed: 0_level_0_Week':'Week','Unnamed: 1_level_0_Day':'Day','Unnamed: 2_level_0_Date':'Date',\n",
    "                                      'Unnamed: 3_level_0_Unnamed: 3_level_1':'Time_ET','Unnamed: 4_level_0_Unnamed: 4_level_1':'BOXSCORE',\n",
    "                                      'Unnamed: 5_level_0_Unnamed: 5_level_1':'W_L','Unnamed: 6_level_0_OT':'OT','Unnamed: 7_level_0_Rec':'Home_Record',\n",
    "                                      'Unnamed: 8_level_0_Unnamed: 8_level_1':'HomeOrAway','Unnamed: 9_level_0_Opp':'Opp','Score_Tm':'Home_Score',\n",
    "                                      'Score_Opp':'Away_Score'},inplace=True)\n",
    "            df.drop(['Home_1stD','Home_PassY','Home_RushY','Home_TO','Away_1stD','Away_PassY','Away_TO'], axis=1, inplace=True)\n",
    "            df = df.reset_index(drop=True)\n",
    "            boxscorelink = boxscore(url)\n",
    "            mergedf =  df.merge(boxscorelink, left_index=True, right_index=True)\n",
    "            gameinfo =  pd.DataFrame()\n",
    "            for index, row in mergedf.iterrows():\n",
    "                stats = get_boxscore_stats(row['Links'])\n",
    "                vegas = getGameInfo(row['Links'])\n",
    "                vegas_stats = stats.join(vegas.set_index('VegasLink'), on='GetBoxScoreURL')\n",
    "                gameinfo = gameinfo.append(vegas_stats, ignore_index=True, sort=False)\n",
    "            gameinfo = pd.merge(mergedf, gameinfo, left_on='Links', right_on='GetBoxScoreURL')\n",
    "            if 'Date_x' in gameinfo.columns:\n",
    "                gameinfo.rename(columns = {'Date_x':'Date'}, inplace=True)\n",
    "            nflDF = nflDF.append(gameinfo,ignore_index=True)\n",
    "            sleep(2)\n",
    "        masterdf = masterdf.append(nflDF,ignore_index=True)\n",
    "        sleep(2)\n",
    "    return masterdf"
   ]
  },
  {
   "cell_type": "code",
   "execution_count": 7,
   "metadata": {},
   "outputs": [
    {
     "data": {
      "application/vnd.jupyter.widget-view+json": {
       "model_id": "f76d494a856849f3a8f53f5965bbb0b2",
       "version_major": 2,
       "version_minor": 0
      },
      "text/plain": [
       "HBox(children=(FloatProgress(value=0.0, description='YEAR', max=18.0, style=ProgressStyle(description_width='i…"
      ]
     },
     "metadata": {},
     "output_type": "display_data"
    },
    {
     "data": {
      "application/vnd.jupyter.widget-view+json": {
       "model_id": "453f7b6e0ef2491ead0fd0872cbedc13",
       "version_major": 2,
       "version_minor": 0
      },
      "text/plain": [
       "HBox(children=(FloatProgress(value=0.0, description='TEAMS', max=32.0, style=ProgressStyle(description_width='…"
      ]
     },
     "metadata": {},
     "output_type": "display_data"
    },
    {
     "name": "stdout",
     "output_type": "stream",
     "text": [
      "\n"
     ]
    },
    {
     "data": {
      "application/vnd.jupyter.widget-view+json": {
       "model_id": "80902d1678b947f4b664074a9f43f926",
       "version_major": 2,
       "version_minor": 0
      },
      "text/plain": [
       "HBox(children=(FloatProgress(value=0.0, description='TEAMS', max=32.0, style=ProgressStyle(description_width='…"
      ]
     },
     "metadata": {},
     "output_type": "display_data"
    },
    {
     "name": "stdout",
     "output_type": "stream",
     "text": [
      "\n"
     ]
    },
    {
     "data": {
      "application/vnd.jupyter.widget-view+json": {
       "model_id": "f620ee74d9914f0b8f56d8ee2f531f2a",
       "version_major": 2,
       "version_minor": 0
      },
      "text/plain": [
       "HBox(children=(FloatProgress(value=0.0, description='TEAMS', max=32.0, style=ProgressStyle(description_width='…"
      ]
     },
     "metadata": {},
     "output_type": "display_data"
    },
    {
     "name": "stdout",
     "output_type": "stream",
     "text": [
      "\n"
     ]
    },
    {
     "data": {
      "application/vnd.jupyter.widget-view+json": {
       "model_id": "fe2c2b835fe94c278ede899c64b1a503",
       "version_major": 2,
       "version_minor": 0
      },
      "text/plain": [
       "HBox(children=(FloatProgress(value=0.0, description='TEAMS', max=32.0, style=ProgressStyle(description_width='…"
      ]
     },
     "metadata": {},
     "output_type": "display_data"
    },
    {
     "name": "stdout",
     "output_type": "stream",
     "text": [
      "\n"
     ]
    },
    {
     "data": {
      "application/vnd.jupyter.widget-view+json": {
       "model_id": "73bcb5464a804ab48699fc983d4b9e78",
       "version_major": 2,
       "version_minor": 0
      },
      "text/plain": [
       "HBox(children=(FloatProgress(value=0.0, description='TEAMS', max=32.0, style=ProgressStyle(description_width='…"
      ]
     },
     "metadata": {},
     "output_type": "display_data"
    },
    {
     "name": "stdout",
     "output_type": "stream",
     "text": [
      "\n"
     ]
    },
    {
     "data": {
      "application/vnd.jupyter.widget-view+json": {
       "model_id": "dce7bb71e57b4b1abd93a3e8d0e9b3a6",
       "version_major": 2,
       "version_minor": 0
      },
      "text/plain": [
       "HBox(children=(FloatProgress(value=0.0, description='TEAMS', max=32.0, style=ProgressStyle(description_width='…"
      ]
     },
     "metadata": {},
     "output_type": "display_data"
    },
    {
     "name": "stdout",
     "output_type": "stream",
     "text": [
      "\n"
     ]
    },
    {
     "data": {
      "application/vnd.jupyter.widget-view+json": {
       "model_id": "8f085bd62dae468a9279be592417c999",
       "version_major": 2,
       "version_minor": 0
      },
      "text/plain": [
       "HBox(children=(FloatProgress(value=0.0, description='TEAMS', max=32.0, style=ProgressStyle(description_width='…"
      ]
     },
     "metadata": {},
     "output_type": "display_data"
    },
    {
     "name": "stdout",
     "output_type": "stream",
     "text": [
      "\n"
     ]
    },
    {
     "data": {
      "application/vnd.jupyter.widget-view+json": {
       "model_id": "d6f8ecdcbc4443f0b7845b72e0dafb0d",
       "version_major": 2,
       "version_minor": 0
      },
      "text/plain": [
       "HBox(children=(FloatProgress(value=0.0, description='TEAMS', max=32.0, style=ProgressStyle(description_width='…"
      ]
     },
     "metadata": {},
     "output_type": "display_data"
    },
    {
     "name": "stdout",
     "output_type": "stream",
     "text": [
      "\n"
     ]
    },
    {
     "data": {
      "application/vnd.jupyter.widget-view+json": {
       "model_id": "a4547360859f4227906c3b1b3a1ae3fc",
       "version_major": 2,
       "version_minor": 0
      },
      "text/plain": [
       "HBox(children=(FloatProgress(value=0.0, description='TEAMS', max=32.0, style=ProgressStyle(description_width='…"
      ]
     },
     "metadata": {},
     "output_type": "display_data"
    },
    {
     "name": "stdout",
     "output_type": "stream",
     "text": [
      "\n"
     ]
    },
    {
     "data": {
      "application/vnd.jupyter.widget-view+json": {
       "model_id": "702382a60b764a0988440d94bd183617",
       "version_major": 2,
       "version_minor": 0
      },
      "text/plain": [
       "HBox(children=(FloatProgress(value=0.0, description='TEAMS', max=32.0, style=ProgressStyle(description_width='…"
      ]
     },
     "metadata": {},
     "output_type": "display_data"
    },
    {
     "name": "stdout",
     "output_type": "stream",
     "text": [
      "\n"
     ]
    },
    {
     "data": {
      "application/vnd.jupyter.widget-view+json": {
       "model_id": "fe3c21eed5094c8d99bfa8dea61323a0",
       "version_major": 2,
       "version_minor": 0
      },
      "text/plain": [
       "HBox(children=(FloatProgress(value=0.0, description='TEAMS', max=32.0, style=ProgressStyle(description_width='…"
      ]
     },
     "metadata": {},
     "output_type": "display_data"
    },
    {
     "name": "stdout",
     "output_type": "stream",
     "text": [
      "\n"
     ]
    },
    {
     "data": {
      "application/vnd.jupyter.widget-view+json": {
       "model_id": "a4732d1971f747f2a942abbd32d93754",
       "version_major": 2,
       "version_minor": 0
      },
      "text/plain": [
       "HBox(children=(FloatProgress(value=0.0, description='TEAMS', max=32.0, style=ProgressStyle(description_width='…"
      ]
     },
     "metadata": {},
     "output_type": "display_data"
    },
    {
     "name": "stdout",
     "output_type": "stream",
     "text": [
      "\n"
     ]
    },
    {
     "data": {
      "application/vnd.jupyter.widget-view+json": {
       "model_id": "38e68c3c42e048739b535508575f98ee",
       "version_major": 2,
       "version_minor": 0
      },
      "text/plain": [
       "HBox(children=(FloatProgress(value=0.0, description='TEAMS', max=32.0, style=ProgressStyle(description_width='…"
      ]
     },
     "metadata": {},
     "output_type": "display_data"
    },
    {
     "name": "stdout",
     "output_type": "stream",
     "text": [
      "\n"
     ]
    },
    {
     "data": {
      "application/vnd.jupyter.widget-view+json": {
       "model_id": "9e89e61698c94e7ea3cf6e1e22cd8318",
       "version_major": 2,
       "version_minor": 0
      },
      "text/plain": [
       "HBox(children=(FloatProgress(value=0.0, description='TEAMS', max=32.0, style=ProgressStyle(description_width='…"
      ]
     },
     "metadata": {},
     "output_type": "display_data"
    },
    {
     "name": "stdout",
     "output_type": "stream",
     "text": [
      "\n"
     ]
    },
    {
     "data": {
      "application/vnd.jupyter.widget-view+json": {
       "model_id": "33ef3cfb2df94097b39abb71c1e88c8b",
       "version_major": 2,
       "version_minor": 0
      },
      "text/plain": [
       "HBox(children=(FloatProgress(value=0.0, description='TEAMS', max=32.0, style=ProgressStyle(description_width='…"
      ]
     },
     "metadata": {},
     "output_type": "display_data"
    },
    {
     "name": "stdout",
     "output_type": "stream",
     "text": [
      "\n"
     ]
    },
    {
     "data": {
      "application/vnd.jupyter.widget-view+json": {
       "model_id": "38224bc1d00340629c4d33cd72f790ee",
       "version_major": 2,
       "version_minor": 0
      },
      "text/plain": [
       "HBox(children=(FloatProgress(value=0.0, description='TEAMS', max=32.0, style=ProgressStyle(description_width='…"
      ]
     },
     "metadata": {},
     "output_type": "display_data"
    },
    {
     "name": "stdout",
     "output_type": "stream",
     "text": [
      "\n"
     ]
    },
    {
     "data": {
      "application/vnd.jupyter.widget-view+json": {
       "model_id": "d9ea262ac54a4ad588e2c5a97f6536bc",
       "version_major": 2,
       "version_minor": 0
      },
      "text/plain": [
       "HBox(children=(FloatProgress(value=0.0, description='TEAMS', max=32.0, style=ProgressStyle(description_width='…"
      ]
     },
     "metadata": {},
     "output_type": "display_data"
    },
    {
     "name": "stdout",
     "output_type": "stream",
     "text": [
      "\n"
     ]
    },
    {
     "data": {
      "application/vnd.jupyter.widget-view+json": {
       "model_id": "dee589b43b03481e9c874deb3d1b6037",
       "version_major": 2,
       "version_minor": 0
      },
      "text/plain": [
       "HBox(children=(FloatProgress(value=0.0, description='TEAMS', max=32.0, style=ProgressStyle(description_width='…"
      ]
     },
     "metadata": {},
     "output_type": "display_data"
    },
    {
     "name": "stdout",
     "output_type": "stream",
     "text": [
      "\n",
      "\n"
     ]
    }
   ],
   "source": [
    "master = get_master_df(team_list,2002,2019)\n",
    "# df.to_csv(r'./export/dftocsv.csv', encoding='utf-8', header='true')"
   ]
  },
  {
   "cell_type": "code",
   "execution_count": 8,
   "metadata": {},
   "outputs": [],
   "source": [
    "master.to_csv(r'./data/NFLMASTERDF.csv', header=True)\n",
    "#S3 buck name . -  nflmasterdata\n",
    "# df.to_csv(r'./export/dftocsv.csv', encoding='utf-8', header='true')"
   ]
  }
 ],
 "metadata": {
  "kernelspec": {
   "display_name": "Python 3",
   "language": "python",
   "name": "python3"
  },
  "language_info": {
   "codemirror_mode": {
    "name": "ipython",
    "version": 3
   },
   "file_extension": ".py",
   "mimetype": "text/x-python",
   "name": "python",
   "nbconvert_exporter": "python",
   "pygments_lexer": "ipython3",
   "version": "3.7.4"
  },
  "pycharm": {
   "stem_cell": {
    "cell_type": "raw",
    "metadata": {
     "collapsed": false
    },
    "source": []
   }
  }
 },
 "nbformat": 4,
 "nbformat_minor": 4
}
